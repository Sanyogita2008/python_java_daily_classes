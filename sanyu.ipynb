{
  "nbformat": 4,
  "nbformat_minor": 0,
  "metadata": {
    "colab": {
      "provenance": []
    },
    "kernelspec": {
      "name": "python3",
      "display_name": "Python 3"
    },
    "language_info": {
      "name": "python"
    }
  },
  "cells": [
    {
      "cell_type": "code",
      "execution_count": 3,
      "metadata": {
        "colab": {
          "base_uri": "https://localhost:8080/"
        },
        "id": "gXzNufW4NJMR",
        "outputId": "5ae2faae-2bcc-4e6d-88f5-bf589e488a22"
      },
      "outputs": [
        {
          "output_type": "stream",
          "name": "stdout",
          "text": [
            "sanyogita\n"
          ]
        }
      ],
      "source": [
        "print (\"sanyogita\")"
      ]
    },
    {
      "cell_type": "code",
      "source": [
        "print(\"i am studying in bk bca clg chikodi\")"
      ],
      "metadata": {
        "colab": {
          "base_uri": "https://localhost:8080/"
        },
        "id": "hktqOqA1N9aH",
        "outputId": "2b2aceed-dcc4-478b-ac30-497bc6d8d4fb"
      },
      "execution_count": 4,
      "outputs": [
        {
          "output_type": "stream",
          "name": "stdout",
          "text": [
            "i am studying in bk bca clg chikodi\n"
          ]
        }
      ]
    }
  ]
}