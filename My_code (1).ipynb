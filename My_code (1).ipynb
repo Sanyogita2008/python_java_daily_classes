{
  "nbformat": 4,
  "nbformat_minor": 0,
  "metadata": {
    "colab": {
      "provenance": []
    },
    "kernelspec": {
      "name": "python3",
      "display_name": "Python 3"
    },
    "language_info": {
      "name": "python"
    }
  },
  "cells": [
    {
      "cell_type": "code",
      "execution_count": 1,
      "metadata": {
        "colab": {
          "base_uri": "https://localhost:8080/"
        },
        "id": "nNoBFB1IOJMC",
        "outputId": "f6b4fc8a-39a0-465e-d987-d485c8e3d669"
      },
      "outputs": [
        {
          "output_type": "stream",
          "name": "stdout",
          "text": [
            "10 is a greater than 9\n"
          ]
        }
      ],
      "source": [
        "num = 9\n",
        "if num <10:\n",
        "  print(\"10 is a greater than 9\")\n",
        ""
      ]
    },
    {
      "cell_type": "code",
      "source": [
        "user_id = \"20MAC103\"\n",
        "password = 1234\n",
        "if user_id== \"20MAC103\" and password == 1234:\n",
        "  print(\"login successefully\")\n",
        ""
      ],
      "metadata": {
        "colab": {
          "base_uri": "https://localhost:8080/"
        },
        "id": "DHwpjmV8O9KZ",
        "outputId": "6c0b6ca1-007c-40e1-bbe5-980ba0545f7a"
      },
      "execution_count": 2,
      "outputs": [
        {
          "output_type": "stream",
          "name": "stdout",
          "text": [
            "login successefully\n"
          ]
        }
      ]
    },
    {
      "cell_type": "code",
      "source": [
        "# 3 is a positive numbers\n",
        "year = int(input(\"enter year value:\"))\n",
        "age = int(input(\"enter age value :\"))\n",
        "if age >= 18:\n",
        "  print(\"they are eligible for voting\")\n",
        "else:\n",
        "  print(\"they have to wait\")\n",
        ""
      ],
      "metadata": {
        "colab": {
          "base_uri": "https://localhost:8080/"
        },
        "id": "0cbpn29YPt01",
        "outputId": "bfee634c-1402-4e27-941b-45975f81198b"
      },
      "execution_count": 6,
      "outputs": [
        {
          "output_type": "stream",
          "name": "stdout",
          "text": [
            "enter year value:2026\n",
            "enter age value :18\n",
            "they are eligible for voting\n"
          ]
        }
      ]
    },
    {
      "cell_type": "code",
      "source": [
        "marks = int(input(\"enter a marks value:\"))\n",
        "if marks >=85:\n",
        "  print(\"distiction\")\n",
        "elif marks>=70:\n",
        "  print(\"first class\")\n",
        "elif marks >=55:\n",
        "  print(\"second class\")\n",
        "elif marks >=35:\n",
        "  print(\"just pass\")\n",
        "else:\n",
        "  print(\"fail, better luck next chance\")"
      ],
      "metadata": {
        "colab": {
          "base_uri": "https://localhost:8080/"
        },
        "id": "BVH5rUcTRa7K",
        "outputId": "c56e8eea-e37e-4a4a-b826-bb3ad1513bf9"
      },
      "execution_count": 8,
      "outputs": [
        {
          "output_type": "stream",
          "name": "stdout",
          "text": [
            "enter a marks value:95\n",
            "distiction\n"
          ]
        }
      ]
    },
    {
      "cell_type": "code",
      "source": [
        "marks = int(input(\"enter a marks value:\"))\n",
        "if marks >=85:\n",
        "  print(\"distiction\")\n",
        "elif marks>=70:\n",
        "  print(\"first class\")\n",
        "elif marks >=55:\n",
        "  print(\"second class\")\n",
        "elif marks >=35:\n",
        "  print(\"just pass\")\n",
        "else:\n",
        "  print(\"fail, better luck next chance\")"
      ],
      "metadata": {
        "colab": {
          "base_uri": "https://localhost:8080/"
        },
        "id": "CxDVSmabRaum",
        "outputId": "b534edc8-ceb1-4bb4-dfff-6ac0f37d511e"
      },
      "execution_count": 10,
      "outputs": [
        {
          "output_type": "stream",
          "name": "stdout",
          "text": [
            "enter a marks value:75\n",
            "first class\n"
          ]
        }
      ]
    },
    {
      "cell_type": "code",
      "source": [
        "marks = int(input(\"enter a marks value:\"))\n",
        "if marks >=85:\n",
        "  print(\"distiction\")\n",
        "elif marks>=70:\n",
        "  print(\"first class\")\n",
        "elif marks >=55:\n",
        "  print(\"second class\")\n",
        "elif marks >=35:\n",
        "  print(\"just pass\")\n",
        "else:\n",
        "  print(\"fail, better luck next chance\")"
      ],
      "metadata": {
        "colab": {
          "base_uri": "https://localhost:8080/"
        },
        "id": "iwwbQcmxSzH6",
        "outputId": "ab066bc6-e93c-4925-8e6b-518a0a2b5d81"
      },
      "execution_count": 11,
      "outputs": [
        {
          "output_type": "stream",
          "name": "stdout",
          "text": [
            "enter a marks value:69\n",
            "second class\n"
          ]
        }
      ]
    },
    {
      "cell_type": "code",
      "source": [
        "marks = int(input(\"enter a marks value:\"))\n",
        "if marks >=85:\n",
        "  print(\"distiction\")\n",
        "elif marks>=70:\n",
        "  print(\"first class\")\n",
        "elif marks >=55:\n",
        "  print(\"second class\")\n",
        "elif marks >=35:\n",
        "  print(\"just pass\")\n",
        "else:\n",
        "  print(\"fail, better luck next chance\")"
      ],
      "metadata": {
        "colab": {
          "base_uri": "https://localhost:8080/"
        },
        "id": "yZuFx-cUS1kS",
        "outputId": "4675a398-5268-4115-ba1c-f04a45271209"
      },
      "execution_count": 12,
      "outputs": [
        {
          "output_type": "stream",
          "name": "stdout",
          "text": [
            "enter a marks value:36\n",
            "just pass\n"
          ]
        }
      ]
    },
    {
      "cell_type": "code",
      "source": [
        "marks = int(input(\"enter a marks value:\"))\n",
        "if marks >=85:\n",
        "  print(\"distiction\")\n",
        "elif marks>=70:\n",
        "  print(\"first class\")\n",
        "elif marks >=55:\n",
        "  print(\"second class\")\n",
        "elif marks >=35:\n",
        "  print(\"just pass\")\n",
        "else:\n",
        "  print(\"fail, better luck next chance\")"
      ],
      "metadata": {
        "colab": {
          "base_uri": "https://localhost:8080/"
        },
        "id": "1oQk2ctyS1dR",
        "outputId": "b60c4352-a500-4132-8ccb-06214e1f2b2c"
      },
      "execution_count": 13,
      "outputs": [
        {
          "output_type": "stream",
          "name": "stdout",
          "text": [
            "enter a marks value:30\n",
            "fail, better luck next chance\n"
          ]
        }
      ]
    },
    {
      "cell_type": "code",
      "source": [
        "prize = input(\"enter prize medal:\")\n",
        "if prize == \"gold\":\n",
        "  print(\"first prize\")\n",
        "elif prize ==\"silver\":\n",
        "  print(\"second prize\")\n",
        "elif prize == \"bronze\":\n",
        "  print(\"third prize\")\n",
        "elif prize == \"certification\":\n",
        "  print(\"fourth prize\")\n",
        "else:\n",
        "  print(\"better luck next chance\")"
      ],
      "metadata": {
        "colab": {
          "base_uri": "https://localhost:8080/"
        },
        "id": "PFksBoIATJGN",
        "outputId": "dbb3f952-8b42-4bc1-c1ec-14567c1d5236"
      },
      "execution_count": 14,
      "outputs": [
        {
          "output_type": "stream",
          "name": "stdout",
          "text": [
            "enter prize medal:gold\n",
            "first prize\n"
          ]
        }
      ]
    },
    {
      "cell_type": "code",
      "source": [
        "prize = input(\"enter prize medal:\")\n",
        "if prize == \"gold\":\n",
        "  print(\"first prize\")\n",
        "elif prize ==\"silver\":\n",
        "  print(\"second prize\")\n",
        "elif prize == \"bronze\":\n",
        "  print(\"third prize\")\n",
        "elif prize == \"certification\":\n",
        "  print(\"fourth prize\")\n",
        "else:\n",
        "  print(\"better luck next chance\")"
      ],
      "metadata": {
        "colab": {
          "base_uri": "https://localhost:8080/"
        },
        "id": "ISSe_W89TJC2",
        "outputId": "a4bef4b2-99db-42bc-9f45-5f74aef923db"
      },
      "execution_count": 15,
      "outputs": [
        {
          "output_type": "stream",
          "name": "stdout",
          "text": [
            "enter prize medal:silver\n",
            "second prize\n"
          ]
        }
      ]
    },
    {
      "cell_type": "code",
      "source": [
        "prize = input(\"enter prize medal:\")\n",
        "if prize == \"gold\":\n",
        "  print(\"first prize\")\n",
        "elif prize ==\"silver\":\n",
        "  print(\"second prize\")\n",
        "elif prize == \"bronze\":\n",
        "  print(\"third prize\")\n",
        "elif prize == \"certification\":\n",
        "  print(\"fourth prize\")\n",
        "else:\n",
        "  print(\"better luck next chance\")"
      ],
      "metadata": {
        "colab": {
          "base_uri": "https://localhost:8080/"
        },
        "id": "hfK9FDPHUo5Y",
        "outputId": "eeb1f913-c18a-4cfa-f7ea-c087e09dde1f"
      },
      "execution_count": 16,
      "outputs": [
        {
          "output_type": "stream",
          "name": "stdout",
          "text": [
            "enter prize medal:bronz\n",
            "better luck next chance\n"
          ]
        }
      ]
    },
    {
      "cell_type": "code",
      "source": [
        "prize = input(\"enter prize medal:\")\n",
        "if prize == \"gold\":\n",
        "  print(\"first prize\")\n",
        "elif prize ==\"silver\":\n",
        "  print(\"second prize\")\n",
        "elif prize == \"bronze\":\n",
        "  print(\"third prize\")\n",
        "elif prize == \"certification\":\n",
        "  print(\"fourth prize\")\n",
        "else:\n",
        "  print(\"better luck next chance\")"
      ],
      "metadata": {
        "colab": {
          "base_uri": "https://localhost:8080/"
        },
        "id": "N0b2RvjVUsiE",
        "outputId": "3e3a118a-3fa3-4130-82c5-f68e72265c68"
      },
      "execution_count": 17,
      "outputs": [
        {
          "output_type": "stream",
          "name": "stdout",
          "text": [
            "enter prize medal:certification\n",
            "fourth prize\n"
          ]
        }
      ]
    },
    {
      "cell_type": "code",
      "source": [
        "prize = input(\"enter prize medal:\")\n",
        "if prize == \"gold\":\n",
        "  print(\"first prize\")\n",
        "elif prize ==\"silver\":\n",
        "  print(\"second prize\")\n",
        "elif prize == \"bronze\":\n",
        "  print(\"third prize\")\n",
        "elif prize == \"certification\":\n",
        "  print(\"fourth prize\")\n",
        "else:\n",
        "  print(\"better luck next chance\")"
      ],
      "metadata": {
        "colab": {
          "base_uri": "https://localhost:8080/"
        },
        "id": "QgKcjaFNUyVS",
        "outputId": "f1420f49-0168-4fc1-f98d-71760fe6d10c"
      },
      "execution_count": 18,
      "outputs": [
        {
          "output_type": "stream",
          "name": "stdout",
          "text": [
            "enter prize medal:metal\n",
            "better luck next chance\n"
          ]
        }
      ]
    },
    {
      "cell_type": "code",
      "source": [
        "a, b, c = 25, 35, 15\n",
        "if a > b and a > c:\n",
        "  print(\"a is the largest number\")\n",
        "elif b > a and b > c:\n",
        "  print(\"b is the largest number\")\n",
        "else:\n",
        "  print(\"c is the largest number\")"
      ],
      "metadata": {
        "colab": {
          "base_uri": "https://localhost:8080/"
        },
        "id": "aBxWoOOZU8wK",
        "outputId": "c29142c7-6efa-4783-e53c-8f9da2e499bb"
      },
      "execution_count": 22,
      "outputs": [
        {
          "output_type": "stream",
          "name": "stdout",
          "text": [
            "b is the largest number\n"
          ]
        }
      ]
    },
    {
      "cell_type": "code",
      "source": [
        "num = int(input(\"enter the num value is :\"))\n",
        "if num > 0:\n",
        "  if num == 0:\n",
        "    print(\"zero value\")\n",
        "  else:\n",
        "    print(\"positive number\")\n",
        "else:\n",
        "    print(\"negative number\")"
      ],
      "metadata": {
        "colab": {
          "base_uri": "https://localhost:8080/"
        },
        "id": "y2cdTBpMU8lO",
        "outputId": "2ebbdcf6-6557-4437-a625-98a6453b2725"
      },
      "execution_count": 28,
      "outputs": [
        {
          "output_type": "stream",
          "name": "stdout",
          "text": [
            "enter the num value is :10\n",
            "positive number\n"
          ]
        }
      ]
    },
    {
      "cell_type": "code",
      "source": [
        "num = int(input(\"enter the num value is :\"))\n",
        "if num > 0:\n",
        "  if num == 0:\n",
        "    print(\"zero value\")\n",
        "  else:\n",
        "    print(\"positive number\")\n",
        "else:\n",
        "    print(\"negative number\")"
      ],
      "metadata": {
        "colab": {
          "base_uri": "https://localhost:8080/"
        },
        "id": "FCotqENmWGZY",
        "outputId": "a10eb732-6f04-4e63-df25-7c8bb57b7497"
      },
      "execution_count": 29,
      "outputs": [
        {
          "output_type": "stream",
          "name": "stdout",
          "text": [
            "enter the num value is :-45\n",
            "negative number\n"
          ]
        }
      ]
    },
    {
      "cell_type": "code",
      "source": [
        "num = int(input(\"enter the num value is :\"))\n",
        "if num > 0:\n",
        "  if num == 0:\n",
        "    print(\"zero value\")\n",
        "  else:\n",
        "    print(\"positive number\")\n",
        "else:\n",
        "    print(\"negative number\")"
      ],
      "metadata": {
        "colab": {
          "base_uri": "https://localhost:8080/"
        },
        "id": "98k0aINEXfJv",
        "outputId": "bca658bf-3d31-4518-81ff-ab1caa846e30"
      },
      "execution_count": 30,
      "outputs": [
        {
          "output_type": "stream",
          "name": "stdout",
          "text": [
            "enter the num value is :0\n",
            "negative number\n"
          ]
        }
      ]
    }
  ]
}