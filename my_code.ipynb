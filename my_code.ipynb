{
  "nbformat": 4,
  "nbformat_minor": 0,
  "metadata": {
    "colab": {
      "provenance": []
    },
    "kernelspec": {
      "name": "python3",
      "display_name": "Python 3"
    },
    "language_info": {
      "name": "python"
    }
  },
  "cells": [
    {
      "cell_type": "code",
      "execution_count": 6,
      "metadata": {
        "colab": {
          "base_uri": "https://localhost:8080/"
        },
        "id": "KmX4Lo80_ouI",
        "outputId": "d981c699-58d4-42c5-fefc-54ba05aca983"
      },
      "outputs": [
        {
          "output_type": "stream",
          "name": "stdout",
          "text": [
            "2\n",
            "30\n",
            "enter x value46\n",
            "enter y value89\n",
            "135\n",
            "Addition of 46 and 89 value is = 135\n"
          ]
        }
      ],
      "source": [
        "ex = [\"Laptop\", 390000, \"Window\", \"Lenovo\", \"Bengaluru\", \"Laptop\", 39000, \"MAC\", \"Lenovo\",\"Chikodi\"]\n",
        "print(ex.count(\"Lenovo\"))\n",
        "\n",
        "#compile time program\n",
        "a = 10\n",
        "b = 20\n",
        "print(a + b)\n",
        "\n",
        "#Run time program\n",
        "x = int(input(\"enter x value\"))\n",
        "y = int(input(\"enter y value\"))\n",
        "print(x + y)\n",
        "\n",
        "#Addition of 10 & 20 value is = 30\n",
        "print(\"Addition of\",x, \"and\", y, \"value is =\", x+ y)"
      ]
    },
    {
      "cell_type": "code",
      "source": [
        "first = float(input(\"enter first value :\"))\n",
        "second = float(input(\"enter second value :\"))\n",
        "print(first +second)\n",
        "\n"
      ],
      "metadata": {
        "colab": {
          "base_uri": "https://localhost:8080/"
        },
        "id": "IfnxopyoB2x0",
        "outputId": "a3d1c7b5-6819-4706-ad06-31f612edf43a"
      },
      "execution_count": 11,
      "outputs": [
        {
          "output_type": "stream",
          "name": "stdout",
          "text": [
            "enter first value :10\n",
            "enter second value :5\n",
            "15.0\n"
          ]
        }
      ]
    },
    {
      "cell_type": "code",
      "source": [
        "first_name = input(\"enter first name :\")\n",
        "second_name =input(\"enter second name :\")\n",
        "print(first_name+second_name)\n"
      ],
      "metadata": {
        "colab": {
          "base_uri": "https://localhost:8080/"
        },
        "id": "-jtLLsknDZpi",
        "outputId": "e0ea4d96-e545-438b-fdf3-28f97acd9e4b"
      },
      "execution_count": 13,
      "outputs": [
        {
          "output_type": "stream",
          "name": "stdout",
          "text": [
            "enter first name :sanyogita \n",
            "enter second name :shedbale\n",
            "sanyogita shedbale\n"
          ]
        }
      ]
    },
    {
      "cell_type": "code",
      "source": [
        "i = int(input(\"enter the i value :\"))\n",
        "j = int(input(\"enter the j value :\"))\n",
        "print(i*j)"
      ],
      "metadata": {
        "colab": {
          "base_uri": "https://localhost:8080/"
        },
        "id": "L3l3P8bWEAA6",
        "outputId": "6e87e2bb-3a3b-4a8c-ab77-b8ce32aa9935"
      },
      "execution_count": 16,
      "outputs": [
        {
          "output_type": "stream",
          "name": "stdout",
          "text": [
            "enter the i value :34\n",
            "enter the j value :56\n",
            "1904\n"
          ]
        }
      ]
    },
    {
      "cell_type": "code",
      "source": [
        "x = 100\n",
        "y = 90\n",
        "print(f'addition of {x} and {y} value is = {x+y}')"
      ],
      "metadata": {
        "colab": {
          "base_uri": "https://localhost:8080/"
        },
        "id": "0bhb39ujEkN1",
        "outputId": "2e40852d-2ea2-4351-cc59-8e5fad0663e9"
      },
      "execution_count": 17,
      "outputs": [
        {
          "output_type": "stream",
          "name": "stdout",
          "text": [
            "addition of 100 and 90 value is = 190\n"
          ]
        }
      ]
    },
    {
      "cell_type": "code",
      "source": [
        "# Hi, Good morning my name is sanyogita, i have completed BCA in the year of 2022 currently i'm working in KLE BK BCA college chikodi 584128\n",
        "name = \"sanyogita\"\n",
        "course = \"BCA\"\n",
        "year = 2022\n",
        "department = \"BCA\"\n",
        "pincode = 584128\n",
        "print(f'hi,good morning my name is {name}, i have complited {course}, in kle bk {department} college chikodi {pincode}')"
      ],
      "metadata": {
        "colab": {
          "base_uri": "https://localhost:8080/"
        },
        "id": "DDXRw509E7eU",
        "outputId": "7e12fad0-decb-400e-821a-6dd19ffab641"
      },
      "execution_count": 30,
      "outputs": [
        {
          "output_type": "stream",
          "name": "stdout",
          "text": [
            "hi,good morning my name is sanyogita, i have complited BCA, in kle bk BCA college chikodi 584128\n"
          ]
        }
      ]
    },
    {
      "cell_type": "code",
      "source": [
        "num1 = int(input(\"enter num1 value :\"))\n",
        "num2 = int(input(\"enter num2 value :\"))\n",
        "\n",
        "\n",
        "print(\"addition of two numbers is :\",num1+num2)\n",
        "\n",
        "\n",
        "print(\"substraction of two numbers is :\",num1-num2)\n",
        "\n",
        "\n",
        "print(\"multiplication of two numbers is :\",num1*num2)\n",
        "\n",
        "\n",
        "print(\"division of two numbers is :\",num1/num2)\n",
        "\n",
        "\n",
        "print(\"floor division of two numbers is :\",num1//num2)\n",
        "\n",
        "\n",
        "print(\"modulus of two numbers is :\",num1%num2)\n",
        "\n",
        "\n",
        "print(\"exponent of two numbers is :\",num1**num2)\n"
      ],
      "metadata": {
        "colab": {
          "base_uri": "https://localhost:8080/"
        },
        "id": "Z2UFAKMOJyfU",
        "outputId": "54427b01-e522-444c-fa47-48cd2d083198"
      },
      "execution_count": 34,
      "outputs": [
        {
          "output_type": "stream",
          "name": "stdout",
          "text": [
            "enter num1 value :30\n",
            "enter num2 value :08\n",
            "addition of two numbers is : 38\n",
            "substraction of two numbers is : 22\n",
            "multiplication of two numbers is : 240\n",
            "division of two numbers is : 3.75\n",
            "floor division of two numbers is : 3\n",
            "modulus of two numbers is : 6\n",
            "exponent of two numbers is : 656100000000\n"
          ]
        }
      ]
    },
    {
      "cell_type": "code",
      "source": [
        "a = 30\n",
        "b = 40\n",
        "print(a>b)\n",
        "print(a==b)\n",
        "print(a==b)\n",
        "print(a<b)\n",
        "print(a>=b)\n",
        "print(a<=b)\n",
        "print(a!=b)\n"
      ],
      "metadata": {
        "colab": {
          "base_uri": "https://localhost:8080/"
        },
        "id": "QYoFH425L9Tg",
        "outputId": "20a97b79-b802-41a0-d5d6-a9b673c7ced6"
      },
      "execution_count": 36,
      "outputs": [
        {
          "output_type": "stream",
          "name": "stdout",
          "text": [
            "False\n",
            "False\n",
            "False\n",
            "True\n",
            "False\n",
            "True\n",
            "True\n"
          ]
        }
      ]
    },
    {
      "cell_type": "code",
      "source": [
        "a = 20\n",
        "b =  35\n",
        "c = 13\n",
        "d = 10\n",
        "print(a==b and c<d)\n",
        "print(13!=b and d<c)\n",
        "print(b>a and d<c)\n",
        "print(20!=a and c==b)\n",
        "print(a<b or a==c)\n",
        "print(a==b and c<d)\n",
        "print(not(a<b)and 100<200)\n",
        "print(not(a==10))\n",
        "print(35!=d or(not(20==a)))\n",
        "print(not(c<=b and(not(a<=c))))\n"
      ],
      "metadata": {
        "colab": {
          "base_uri": "https://localhost:8080/"
        },
        "id": "L9uUdlfBMhFr",
        "outputId": "a631234e-c0ef-467c-a987-da7ff58eee33"
      },
      "execution_count": 42,
      "outputs": [
        {
          "output_type": "stream",
          "name": "stdout",
          "text": [
            "False\n",
            "True\n",
            "True\n",
            "False\n",
            "True\n",
            "False\n",
            "False\n",
            "True\n",
            "True\n",
            "False\n"
          ]
        }
      ]
    },
    {
      "cell_type": "code",
      "source": [
        "x = 10\n",
        "print(x)\n",
        "x-=2\n",
        "print(x)\n",
        "\n",
        "x*=5\n",
        "print(x)\n",
        "\n",
        "\n",
        "x**2\n",
        "print(x)\n",
        "\n",
        "x+=9\n",
        "print(x)\n",
        "\n",
        "x%=4\n",
        "print(x)\n",
        ""
      ],
      "metadata": {
        "colab": {
          "base_uri": "https://localhost:8080/"
        },
        "id": "__P4bO_WO4NJ",
        "outputId": "930093de-0733-441f-8083-3c21c61cedc9"
      },
      "execution_count": 56,
      "outputs": [
        {
          "output_type": "stream",
          "name": "stdout",
          "text": [
            "10\n",
            "8\n",
            "40\n",
            "40\n",
            "49\n",
            "1\n"
          ]
        }
      ]
    },
    {
      "cell_type": "code",
      "source": [
        "x//3\n",
        "print(x)\n",
        "\n",
        "x/3\n",
        "print(x)"
      ],
      "metadata": {
        "colab": {
          "base_uri": "https://localhost:8080/"
        },
        "id": "wRaPJvArQjO8",
        "outputId": "c85d6760-bda3-4d90-c3f6-21712b3e2143"
      },
      "execution_count": 58,
      "outputs": [
        {
          "output_type": "stream",
          "name": "stdout",
          "text": [
            "1\n",
            "1\n"
          ]
        }
      ]
    },
    {
      "cell_type": "code",
      "source": [],
      "metadata": {
        "id": "9DAuYwN0Qu-K"
      },
      "execution_count": null,
      "outputs": []
    }
  ]
}