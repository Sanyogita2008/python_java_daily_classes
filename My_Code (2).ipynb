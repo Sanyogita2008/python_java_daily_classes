{
  "nbformat": 4,
  "nbformat_minor": 0,
  "metadata": {
    "colab": {
      "provenance": []
    },
    "kernelspec": {
      "name": "python3",
      "display_name": "Python 3"
    },
    "language_info": {
      "name": "python"
    }
  },
  "cells": [
    {
      "cell_type": "code",
      "execution_count": 3,
      "metadata": {
        "colab": {
          "base_uri": "https://localhost:8080/"
        },
        "id": "VYzNfFZxX1tj",
        "outputId": "31d7c03d-66d1-437a-dbe7-50a817800312"
      },
      "outputs": [
        {
          "output_type": "stream",
          "name": "stdout",
          "text": [
            "enter your choice option+\n",
            "sum of value 30\n"
          ]
        }
      ],
      "source": [
        "x,y = 10,20\n",
        "option = input(\"enter your choice option\")\n",
        "match option:\n",
        "  case'+':\n",
        "    print(\"sum of value\",x+y)\n",
        "\n",
        "  case'-':\n",
        "    print(\"substraction of value\",x-y)\n",
        "\n",
        "  case'*':\n",
        "    print(\"multiplication of value\", x*y)\n",
        "\n",
        "  case'/':\n",
        "    print(\"division of value\",x/y)\n",
        "\n",
        "  case'%':\n",
        "    print(\"modulus of value\",x%y)\n",
        "\n",
        "  case'_':\n",
        "    print(\"invalied operator\")"
      ]
    },
    {
      "cell_type": "code",
      "source": [
        "x,y = 10,20\n",
        "option = input(\"enter your choice option\")\n",
        "match option:\n",
        "  case'+':\n",
        "    print(\"sum of value\",x+y)\n",
        "\n",
        "  case'-':\n",
        "    print(\"substraction of value\",x-y)\n",
        "\n",
        "  case'*':\n",
        "    print(\"multiplication of value\", x*y)\n",
        "\n",
        "  case'/':\n",
        "    print(\"division of value\",x/y)\n",
        "\n",
        "  case'%':\n",
        "    print(\"modulus of value\",x%y)\n",
        "\n",
        "  case'_':\n",
        "    print(\"invalied operator\")"
      ],
      "metadata": {
        "colab": {
          "base_uri": "https://localhost:8080/"
        },
        "id": "3NSaa72kZy7X",
        "outputId": "54f103c8-f921-4e32-e27a-c9e1babdb506"
      },
      "execution_count": 4,
      "outputs": [
        {
          "output_type": "stream",
          "name": "stdout",
          "text": [
            "enter your choice option-\n",
            "substraction of value -10\n"
          ]
        }
      ]
    },
    {
      "cell_type": "code",
      "source": [
        "x,y = 10,20\n",
        "option = input(\"enter your choice option\")\n",
        "match option:\n",
        "  case'+':\n",
        "    print(\"sum of value\",x+y)\n",
        "\n",
        "  case'-':\n",
        "    print(\"substraction of value\",x-y)\n",
        "\n",
        "  case'*':\n",
        "    print(\"multiplication of value\", x*y)\n",
        "\n",
        "  case'/':\n",
        "    print(\"division of value\",x/y)\n",
        "\n",
        "  case'%':\n",
        "    print(\"modulus of value\",x%y)\n",
        "\n",
        "  case'_':\n",
        "    print(\"invalied operator\")"
      ],
      "metadata": {
        "colab": {
          "base_uri": "https://localhost:8080/"
        },
        "id": "W_9pkVEjZ2gT",
        "outputId": "d803506e-bfee-4446-820e-1b63ca3349c6"
      },
      "execution_count": 5,
      "outputs": [
        {
          "output_type": "stream",
          "name": "stdout",
          "text": [
            "enter your choice option/\n",
            "division of value 0.5\n"
          ]
        }
      ]
    },
    {
      "cell_type": "code",
      "source": [
        "x,y = 10,20\n",
        "option = input(\"enter your choice option\")\n",
        "match option:\n",
        "  case'+':\n",
        "    print(\"sum of value\",x+y)\n",
        "\n",
        "  case'-':\n",
        "    print(\"substraction of value\",x-y)\n",
        "\n",
        "  case'*':\n",
        "    print(\"multiplication of value\", x*y)\n",
        "\n",
        "  case'/':\n",
        "    print(\"division of value\",x/y)\n",
        "\n",
        "  case'%':\n",
        "    print(\"modulus of value\",x%y)\n",
        "\n",
        "  case'_':\n",
        "    print(\"invalied operator\")\n"
      ],
      "metadata": {
        "colab": {
          "base_uri": "https://localhost:8080/"
        },
        "id": "0uP57A-aZ6aT",
        "outputId": "80ed6312-ed0f-4b05-e042-3c4303788db9"
      },
      "execution_count": 6,
      "outputs": [
        {
          "output_type": "stream",
          "name": "stdout",
          "text": [
            "enter your choice option*\n",
            "multiplication of value 200\n"
          ]
        }
      ]
    },
    {
      "cell_type": "code",
      "source": [
        "x,y = 10,20\n",
        "option = input(\"enter your choice option\")\n",
        "match option:\n",
        "  case'+':\n",
        "    print(\"sum of value\",x+y)\n",
        "\n",
        "  case'-':\n",
        "    print(\"substraction of value\",x-y)\n",
        "\n",
        "  case'*':\n",
        "    print(\"multiplication of value\", x*y)\n",
        "\n",
        "  case'/':\n",
        "    print(\"division of value\",x/y)\n",
        "\n",
        "  case'%':\n",
        "    print(\"modulus of value\",x%y)\n",
        "\n",
        "  case'_':\n",
        "    print(\"invalied operator\")"
      ],
      "metadata": {
        "colab": {
          "base_uri": "https://localhost:8080/"
        },
        "id": "IutzhODaaAK7",
        "outputId": "36e466f4-7033-4f59-e13f-87db9262e1aa"
      },
      "execution_count": 7,
      "outputs": [
        {
          "output_type": "stream",
          "name": "stdout",
          "text": [
            "enter your choice option%\n",
            "modulus of value 10\n"
          ]
        }
      ]
    },
    {
      "cell_type": "code",
      "source": [
        "\n",
        "\n"
      ],
      "metadata": {
        "colab": {
          "base_uri": "https://localhost:8080/"
        },
        "id": "HvHU4vHBaF47",
        "outputId": "5e2f9eb9-6d46-4ef9-ab2d-96bed3965bf1"
      },
      "execution_count": 17,
      "outputs": [
        {
          "output_type": "stream",
          "name": "stdout",
          "text": [
            "enter the day value:5\n",
            "friday\n"
          ]
        }
      ]
    },
    {
      "cell_type": "code",
      "source": [
        "day = input(\"enter the day value:\")\n",
        "match day :\n",
        "  case'1':\n",
        "    print(\"monday\")\n",
        "  case'2':\n",
        "    print(\"tuesday\")\n",
        "  case'3':\n",
        "    print(\"wednesday\")\n",
        "  case'4':\n",
        "    print(\"thirsday\")\n",
        "  case'5':\n",
        "    print(\"friday\")\n",
        "  case'6':\n",
        "    print(\"saturday\")\n",
        "  case'7':\n",
        "    print(\"sunday\")\n",
        "  case'_':\n",
        "    print(\"holiday\")\n"
      ],
      "metadata": {
        "colab": {
          "base_uri": "https://localhost:8080/"
        },
        "outputId": "b369fa77-829f-482e-d078-c8d03660c595",
        "id": "eZV92XnvclAB"
      },
      "execution_count": 18,
      "outputs": [
        {
          "output_type": "stream",
          "name": "stdout",
          "text": [
            "enter the day value:5\n",
            "friday\n"
          ]
        }
      ]
    },
    {
      "cell_type": "code",
      "source": [
        "day = input(\"enter the day value:\")\n",
        "match day :\n",
        "  case'1':\n",
        "    print(\"monday\")\n",
        "  case'2':\n",
        "    print(\"tuesday\")\n",
        "  case'3':\n",
        "    print(\"wednesday\")\n",
        "  case'4':\n",
        "    print(\"thirsday\")\n",
        "  case'5':\n",
        "    print(\"friday\")\n",
        "  case'6':\n",
        "    print(\"saturday\")\n",
        "  case'7':\n",
        "    print(\"sunday\")\n",
        "  case'_':\n",
        "    print(\"holiday\")\n"
      ],
      "metadata": {
        "colab": {
          "base_uri": "https://localhost:8080/"
        },
        "outputId": "1ba38ac0-46b4-4e89-bf92-24ebc4909fc5",
        "id": "uuv59xFachHi"
      },
      "execution_count": 20,
      "outputs": [
        {
          "output_type": "stream",
          "name": "stdout",
          "text": [
            "enter the day value:_\n",
            "holiday\n"
          ]
        }
      ]
    },
    {
      "cell_type": "code",
      "source": [],
      "metadata": {
        "id": "rDhoFos2cv0e"
      },
      "execution_count": null,
      "outputs": []
    },
    {
      "cell_type": "code",
      "source": [
        "month = input(\"enter the month value:\")\n",
        "match month :\n",
        "  case'1':\n",
        "    print(\"JAN\")\n",
        "  case'2':\n",
        "    print(\"FEB\")\n",
        "  case'3':\n",
        "    print(\"MAR\")\n",
        "  case'4':\n",
        "    print(\"APR\")\n",
        "  case'5':\n",
        "    print(\"MAY\")\n",
        "  case'6':\n",
        "    print(\"JUN\")\n",
        "  case'7':\n",
        "    print(\"JUL\")\n",
        "  case'8':\n",
        "    print(\"AUG\")\n",
        "  case'9':\n",
        "    print(\"SEP\")\n",
        "  case'10':\n",
        "    print(\"OCT\")\n",
        "  case'11':\n",
        "    print(\"NOV\")\n",
        "  case'12':\n",
        "    print(\"DEC\")\n",
        "\n",
        "\n"
      ],
      "metadata": {
        "colab": {
          "base_uri": "https://localhost:8080/"
        },
        "outputId": "00db8356-a663-45e3-bb61-99c11b913791",
        "id": "Uwb72rCOcwUu"
      },
      "execution_count": 22,
      "outputs": [
        {
          "output_type": "stream",
          "name": "stdout",
          "text": [
            "enter the month value:9\n",
            "SEP\n"
          ]
        }
      ]
    },
    {
      "cell_type": "code",
      "source": [
        "i = 1\n",
        "while i <= 60:\n",
        "  print(i)\n",
        "  i+=1"
      ],
      "metadata": {
        "colab": {
          "base_uri": "https://localhost:8080/"
        },
        "id": "rJx61R8-eQVV",
        "outputId": "d98140ae-ceb1-4b44-8685-dfd35ae756fa"
      },
      "execution_count": 25,
      "outputs": [
        {
          "output_type": "stream",
          "name": "stdout",
          "text": [
            "1\n",
            "2\n",
            "3\n",
            "4\n",
            "5\n",
            "6\n",
            "7\n",
            "8\n",
            "9\n",
            "10\n",
            "11\n",
            "12\n",
            "13\n",
            "14\n",
            "15\n",
            "16\n",
            "17\n",
            "18\n",
            "19\n",
            "20\n",
            "21\n",
            "22\n",
            "23\n",
            "24\n",
            "25\n",
            "26\n",
            "27\n",
            "28\n",
            "29\n",
            "30\n",
            "31\n",
            "32\n",
            "33\n",
            "34\n",
            "35\n",
            "36\n",
            "37\n",
            "38\n",
            "39\n",
            "40\n",
            "41\n",
            "42\n",
            "43\n",
            "44\n",
            "45\n",
            "46\n",
            "47\n",
            "48\n",
            "49\n",
            "50\n",
            "51\n",
            "52\n",
            "53\n",
            "54\n",
            "55\n",
            "56\n",
            "57\n",
            "58\n",
            "59\n",
            "60\n"
          ]
        }
      ]
    },
    {
      "cell_type": "code",
      "source": [
        "i = 1\n",
        "while i <= 60:\n",
        "  print(i, end=\" \")\n",
        "  i+=1"
      ],
      "metadata": {
        "colab": {
          "base_uri": "https://localhost:8080/"
        },
        "id": "s8xdwvQkeI4j",
        "outputId": "7d1aba89-d372-4c9f-900e-62025a249320"
      },
      "execution_count": 28,
      "outputs": [
        {
          "output_type": "stream",
          "name": "stdout",
          "text": [
            "1 2 3 4 5 6 7 8 9 10 11 12 13 14 15 16 17 18 19 20 21 22 23 24 25 26 27 28 29 30 31 32 33 34 35 36 37 38 39 40 41 42 43 44 45 46 47 48 49 50 51 52 53 54 55 56 57 58 59 60 "
          ]
        }
      ]
    },
    {
      "cell_type": "code",
      "source": [
        "from re import I\n",
        "i = 1\n",
        "add = 0\n",
        "while i <= 10:\n",
        "  add = add + i\n",
        "  i = i + 1\n",
        "print(\"sum of N natural number is :\",add)\n"
      ],
      "metadata": {
        "colab": {
          "base_uri": "https://localhost:8080/"
        },
        "id": "th1V_hP-e8fI",
        "outputId": "87353f99-e6db-4343-a928-98ab03d39726"
      },
      "execution_count": 30,
      "outputs": [
        {
          "output_type": "stream",
          "name": "stdout",
          "text": [
            "sum of N natural number is : 55\n"
          ]
        }
      ]
    },
    {
      "cell_type": "code",
      "source": [
        "num = 5\n",
        "i = 1\n",
        "while i<= 10:\n",
        "  print(\"5 *\",i,\"=\",num*i)\n",
        "  i = i+1"
      ],
      "metadata": {
        "colab": {
          "base_uri": "https://localhost:8080/"
        },
        "id": "EymQOv-Hfh7v",
        "outputId": "902cd1a9-657b-4f44-dd8f-d653f678f683"
      },
      "execution_count": 33,
      "outputs": [
        {
          "output_type": "stream",
          "name": "stdout",
          "text": [
            "5 * 1 = 5\n",
            "5 * 2 = 10\n",
            "5 * 3 = 15\n",
            "5 * 4 = 20\n",
            "5 * 5 = 25\n",
            "5 * 6 = 30\n",
            "5 * 7 = 35\n",
            "5 * 8 = 40\n",
            "5 * 9 = 45\n",
            "5 * 10 = 50\n"
          ]
        }
      ]
    },
    {
      "cell_type": "code",
      "source": [
        "num = 153\n",
        "rem = 0\n",
        "sum = 0\n",
        "temp = num\n",
        "\n",
        "while num>0:\n",
        "  rem = num % 10\n",
        "  sum = sum + rem * 3\n",
        "  num = num // 10\n",
        "if temp == sum :\n",
        "  print(\"armstrong number\")\n",
        "else:\n",
        "  print(\"not armstrong number\")\n",
        "\n"
      ],
      "metadata": {
        "colab": {
          "base_uri": "https://localhost:8080/"
        },
        "id": "e1MQ3Ycsf_jp",
        "outputId": "a44e416d-c193-4e2a-d4e2-9aac992c7f6d"
      },
      "execution_count": 35,
      "outputs": [
        {
          "output_type": "stream",
          "name": "stdout",
          "text": [
            "not armstrong number\n"
          ]
        }
      ]
    },
    {
      "cell_type": "code",
      "source": [
        "num = 12345\n",
        "revers = 0\n",
        "while num!=0:\n",
        "  rem = num % 10\n",
        "  revers = revers * 10 + rem\n",
        "  num = num // 10\n",
        "print(\"revers number is :\",revers)"
      ],
      "metadata": {
        "colab": {
          "base_uri": "https://localhost:8080/"
        },
        "id": "pbuTtU3tf_gN",
        "outputId": "c84f237b-f5a5-4d65-9535-440db1d9915d"
      },
      "execution_count": 41,
      "outputs": [
        {
          "output_type": "stream",
          "name": "stdout",
          "text": [
            "revers number is : 54321\n"
          ]
        }
      ]
    },
    {
      "cell_type": "code",
      "source": [
        "#pollintron number\n",
        "num = 123321\n",
        "rem = 0\n",
        "rev = 0\n",
        "temp = num\n",
        "while num>0:\n",
        "  rem = num % 10\n",
        "  rev = rev * 10 + rem\n",
        "  num = num // 10\n",
        "if temp == rev :\n",
        "  print(\"pollinitron number\")\n",
        "else:\n",
        "  print(\"not pollinitron number\")"
      ],
      "metadata": {
        "colab": {
          "base_uri": "https://localhost:8080/"
        },
        "id": "Lck6F7muimJO",
        "outputId": "fe1338df-6de9-4e89-a93b-cf186212594e"
      },
      "execution_count": 42,
      "outputs": [
        {
          "output_type": "stream",
          "name": "stdout",
          "text": [
            "pollinitron number\n"
          ]
        }
      ]
    },
    {
      "cell_type": "code",
      "source": [
        "# print even number between 1 to 100\n",
        "i = 2\n",
        "while i <= 100 :\n",
        "  print(i, end=\" \")\n",
        "  i += 2"
      ],
      "metadata": {
        "colab": {
          "base_uri": "https://localhost:8080/"
        },
        "id": "qHz1RAktil8L",
        "outputId": "ee3e4bac-05bf-484e-e587-0738afc534f1"
      },
      "execution_count": 45,
      "outputs": [
        {
          "output_type": "stream",
          "name": "stdout",
          "text": [
            "2 4 6 8 10 12 14 16 18 20 22 24 26 28 30 32 34 36 38 40 42 44 46 48 50 52 54 56 58 60 62 64 66 68 70 72 74 76 78 80 82 84 86 88 90 92 94 96 98 100 "
          ]
        }
      ]
    },
    {
      "cell_type": "code",
      "source": [
        "# print odd number between 1 to 100\n",
        "i = 1\n",
        "while i <= 100 :\n",
        "  print(i, end=\" \")\n",
        "  i += 2"
      ],
      "metadata": {
        "colab": {
          "base_uri": "https://localhost:8080/"
        },
        "id": "grbah2iVkOp5",
        "outputId": "badfd455-f39c-4a71-8db3-10c20ed7c330"
      },
      "execution_count": 47,
      "outputs": [
        {
          "output_type": "stream",
          "name": "stdout",
          "text": [
            "1 3 5 7 9 11 13 15 17 19 21 23 25 27 29 31 33 35 37 39 41 43 45 47 49 51 53 55 57 59 61 63 65 67 69 71 73 75 77 79 81 83 85 87 89 91 93 95 97 99 "
          ]
        }
      ]
    },
    {
      "cell_type": "code",
      "source": [
        "# fibonacci series\n",
        "num,a,b, = 10,0,1\n",
        "i = 0\n",
        "while i<=num:\n",
        "  print(a,end=\" \")\n",
        "  a,b = b,a+b\n",
        "  i+=1\n",
        ""
      ],
      "metadata": {
        "colab": {
          "base_uri": "https://localhost:8080/"
        },
        "id": "4zqXl36xkwtd",
        "outputId": "85756dd5-120d-4da3-f873-f58a4ee1136a"
      },
      "execution_count": 48,
      "outputs": [
        {
          "output_type": "stream",
          "name": "stdout",
          "text": [
            "0 1 1 2 3 5 8 13 21 34 55 "
          ]
        }
      ]
    },
    {
      "cell_type": "code",
      "source": [
        "# prime numbers\n",
        "num = int(input(\"enter a number value:\"))\n",
        "count = 0\n",
        "i = 1\n",
        "while i<=num:\n",
        "  if num % i == 0:\n",
        "    count +=1\n",
        "  i+=1\n",
        "if count == 2:\n",
        "  print(\"prime numbers\")"
      ],
      "metadata": {
        "colab": {
          "base_uri": "https://localhost:8080/"
        },
        "id": "FloDSCiklXgO",
        "outputId": "170b2762-6381-4a0e-a27a-22051378dc07"
      },
      "execution_count": 53,
      "outputs": [
        {
          "output_type": "stream",
          "name": "stdout",
          "text": [
            "enter a number value:7\n",
            "prime numbers\n"
          ]
        }
      ]
    },
    {
      "cell_type": "code",
      "source": [
        "# revers numbers\n",
        "num = 10\n",
        "i = 0\n",
        "while num >= i:\n",
        "  print(num,end=\" \")\n",
        "  num-=1\n",
        "\n",
        "\n"
      ],
      "metadata": {
        "colab": {
          "base_uri": "https://localhost:8080/"
        },
        "id": "MdQRR7WHlXc3",
        "outputId": "e8704503-9189-4fc8-f8bc-94baf96d842e"
      },
      "execution_count": 54,
      "outputs": [
        {
          "output_type": "stream",
          "name": "stdout",
          "text": [
            "10 9 8 7 6 5 4 3 2 1 0 "
          ]
        }
      ]
    },
    {
      "cell_type": "code",
      "source": [
        "# multiplication of numbers\n",
        "i = 1\n",
        "while i <= 1280:\n",
        "  print(i,end=\" \")\n",
        "  i *= 2\n",
        ""
      ],
      "metadata": {
        "colab": {
          "base_uri": "https://localhost:8080/"
        },
        "id": "X3NyC5apx2Xl",
        "outputId": "14b51e9c-5a88-41a3-8e8a-5b6d5275dd0b"
      },
      "execution_count": 55,
      "outputs": [
        {
          "output_type": "stream",
          "name": "stdout",
          "text": [
            "1 2 4 8 16 32 64 128 256 512 1024 "
          ]
        }
      ]
    },
    {
      "cell_type": "code",
      "source": [
        "colours = ['blue','red','pink','black']\n",
        "print(type(colours))\n",
        "for i in colours:\n",
        "  print(i)"
      ],
      "metadata": {
        "colab": {
          "base_uri": "https://localhost:8080/"
        },
        "id": "O5-CwJ0DzICd",
        "outputId": "ac9e470a-f4f3-4f23-bb2b-5bcb67fae3f3"
      },
      "execution_count": 57,
      "outputs": [
        {
          "output_type": "stream",
          "name": "stdout",
          "text": [
            "<class 'list'>\n",
            "blue\n",
            "red\n",
            "pink\n",
            "black\n"
          ]
        }
      ]
    },
    {
      "cell_type": "code",
      "source": [
        "# while loop\n",
        "#print N natural numbers\n",
        "i = 1\n",
        "num = 10\n",
        "while i <= num:\n",
        "  print(i, end=\" \")\n",
        "  i = i + 1\n",
        "print(\"\\n\") # Add a newline for better separation of outputs\n",
        "for i in range(10):\n",
        "  print(i)"
      ],
      "metadata": {
        "colab": {
          "base_uri": "https://localhost:8080/"
        },
        "id": "Fw51nNEFz1Jc",
        "outputId": "a824a10e-71aa-4458-b0f8-30aada309ae4"
      },
      "execution_count": 60,
      "outputs": [
        {
          "output_type": "stream",
          "name": "stdout",
          "text": [
            "1 2 3 4 5 6 7 8 9 10 \n",
            "\n",
            "0\n",
            "1\n",
            "2\n",
            "3\n",
            "4\n",
            "5\n",
            "6\n",
            "7\n",
            "8\n",
            "9\n"
          ]
        }
      ]
    },
    {
      "cell_type": "code",
      "source": [
        "num = 4\n",
        "for i in range (1,11):\n",
        "  print(num,\"*\",i,\"=\",num*i)"
      ],
      "metadata": {
        "colab": {
          "base_uri": "https://localhost:8080/"
        },
        "id": "EJUMrK6j0us-",
        "outputId": "64e25ff5-47a7-4300-d20c-e6a41d98ab05"
      },
      "execution_count": 64,
      "outputs": [
        {
          "output_type": "stream",
          "name": "stdout",
          "text": [
            "4 * 1 = 4\n",
            "4 * 2 = 8\n",
            "4 * 3 = 12\n",
            "4 * 4 = 16\n",
            "4 * 5 = 20\n",
            "4 * 6 = 24\n",
            "4 * 7 = 28\n",
            "4 * 8 = 32\n",
            "4 * 9 = 36\n",
            "4 * 10 = 40\n"
          ]
        }
      ]
    },
    {
      "cell_type": "code",
      "source": [
        "for i in range (2,10,2):\n",
        "  print(i,end= \" \")\n",
        ""
      ],
      "metadata": {
        "colab": {
          "base_uri": "https://localhost:8080/"
        },
        "id": "ml9zGrVy1XXt",
        "outputId": "b1783a16-cbf8-4a41-930a-45f8408c4b6c"
      },
      "execution_count": 65,
      "outputs": [
        {
          "output_type": "stream",
          "name": "stdout",
          "text": [
            "2 4 6 8 "
          ]
        }
      ]
    },
    {
      "cell_type": "code",
      "source": [
        "fact = 1\n",
        "for i in range (1,6):\n",
        "  fact *= i\n",
        "  print(fact)\n"
      ],
      "metadata": {
        "colab": {
          "base_uri": "https://localhost:8080/"
        },
        "id": "h3l0lMzW1jNY",
        "outputId": "6cf05c6b-b89d-425f-e964-5d61fa36a090"
      },
      "execution_count": 67,
      "outputs": [
        {
          "output_type": "stream",
          "name": "stdout",
          "text": [
            "1\n",
            "2\n",
            "6\n",
            "24\n",
            "120\n"
          ]
        }
      ]
    },
    {
      "cell_type": "code",
      "source": [
        "sentence = \"KLE BK BCA college in chikodi\"\n",
        "count = 0\n",
        "for ch in sentence:\n",
        "  if ch in \"aeiou\":\n",
        "    count += 1\n",
        "print(\"total vovels is :\",count)"
      ],
      "metadata": {
        "colab": {
          "base_uri": "https://localhost:8080/"
        },
        "id": "0pzIm5eW194o",
        "outputId": "fbee6f61-4621-4a89-e335-e7f1e7b2ec0e"
      },
      "execution_count": 73,
      "outputs": [
        {
          "output_type": "stream",
          "name": "stdout",
          "text": [
            "total vovels is : 7\n"
          ]
        }
      ]
    },
    {
      "cell_type": "code",
      "source": [],
      "metadata": {
        "id": "Pn0TYzLM22fg"
      },
      "execution_count": null,
      "outputs": []
    }
  ]
}